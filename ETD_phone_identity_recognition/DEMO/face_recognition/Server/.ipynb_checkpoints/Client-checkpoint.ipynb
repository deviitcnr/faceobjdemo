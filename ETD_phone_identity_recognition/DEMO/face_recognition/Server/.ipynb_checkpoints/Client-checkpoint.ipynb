{
 "cells": [
  {
   "cell_type": "code",
   "execution_count": 2,
   "metadata": {},
   "outputs": [
    {
     "name": "stdout",
     "output_type": "stream",
     "text": [
      "<ipykernel.iostream.OutStream object at 0x7f00e888d128> sending \"This is the message.  It will be repeated.\"\n",
      "<ipykernel.iostream.OutStream object at 0x7f00e888d128> waiting to receive\n",
      "<ipykernel.iostream.OutStream object at 0x7f00e888d128> received \"b'0\\n'\"\n",
      "<ipykernel.iostream.OutStream object at 0x7f00e888d128> closing socket\n"
     ]
    }
   ],
   "source": [
    "import socket\n",
    "import sys\n",
    "\n",
    "# Create a UDP socket\n",
    "sock = socket.socket(socket.AF_INET, socket.SOCK_DGRAM)\n",
    "\n",
    "server_address = ('146.48.99.81', 8890)\n",
    "message = 'This is the message.  It will be repeated.'\n",
    "\n",
    "try:\n",
    "\n",
    "    # Send data\n",
    "    print(sys.stderr, 'sending \"%s\"' % message)\n",
    "    sent = sock.sendto(message.encode(), server_address)\n",
    "\n",
    "    # Receive response\n",
    "    print(sys.stderr, 'waiting to receive')\n",
    "    data, server = sock.recvfrom(4096)\n",
    "    print(sys.stderr, 'received \"%s\"' % data)\n",
    "\n",
    "finally:\n",
    "    print(sys.stderr, 'closing socket')\n",
    "    sock.close()"
   ]
  },
  {
   "cell_type": "code",
   "execution_count": null,
   "metadata": {},
   "outputs": [],
   "source": []
  },
  {
   "cell_type": "code",
   "execution_count": null,
   "metadata": {},
   "outputs": [],
   "source": []
  }
 ],
 "metadata": {
  "kernelspec": {
   "display_name": "Python 3",
   "language": "python",
   "name": "python3"
  },
  "language_info": {
   "codemirror_mode": {
    "name": "ipython",
    "version": 3
   },
   "file_extension": ".py",
   "mimetype": "text/x-python",
   "name": "python",
   "nbconvert_exporter": "python",
   "pygments_lexer": "ipython3",
   "version": "3.5.2"
  }
 },
 "nbformat": 4,
 "nbformat_minor": 2
}
