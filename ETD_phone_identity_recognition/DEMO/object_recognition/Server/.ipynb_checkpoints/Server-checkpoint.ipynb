{
 "cells": [
  {
   "cell_type": "code",
   "execution_count": 1,
   "metadata": {},
   "outputs": [],
   "source": [
    "import socket\n",
    "import sys\n",
    "def get_ip():\n",
    "    s = socket.socket(socket.AF_INET, socket.SOCK_DGRAM)\n",
    "    try:\n",
    "        # doesn't even have to be reachable\n",
    "        s.connect(('10.255.255.255', 1))\n",
    "        IP = s.getsockname()[0]\n",
    "    except:\n",
    "        IP = '127.0.0.1'\n",
    "    finally:\n",
    "        s.close()\n",
    "    return IP"
   ]
  },
  {
   "cell_type": "code",
   "execution_count": 2,
   "metadata": {},
   "outputs": [],
   "source": [
    "def restore_attribute_manager():\n",
    "    attribute_manager_path = \"../attribute_manager/phone_detected_am.txt\"\n",
    "    with open(attribute_manager_path, \"w\") as f:\n",
    "        f.write(\"0\")\n",
    "    f.close()"
   ]
  },
  {
   "cell_type": "code",
   "execution_count": 3,
   "metadata": {},
   "outputs": [],
   "source": [
    "def run_server(port):\n",
    "    # Create a TCP/IP socket\n",
    "    sock = socket.socket(socket.AF_INET, socket.SOCK_DGRAM)\n",
    "    ip = get_ip()\n",
    " \n",
    "    # Bind the socket to the port\n",
    "    #server_address = ('146.48.99.81', 8890)\n",
    "    server_address = (ip, port)\n",
    "    print(sys.stderr, 'starting up on %s port %s' % server_address)\n",
    "    sock.bind(server_address)\n",
    "\n",
    "\n",
    "    attribute_manager_path = \"../attribute_manager/phone_detected_am.txt\"\n",
    "\n",
    "    while True:\n",
    "        print(sys.stderr, '\\nwaiting to receive message')\n",
    "        data, address = sock.recvfrom(4096)\n",
    "\n",
    "        print(sys.stderr, 'received %s bytes from %s' % (len(data), address))\n",
    "        print(sys.stderr, data)\n",
    "        data = \"0\"\n",
    "        with open(attribute_manager_path) as f:\n",
    "            lines = f.readlines()\n",
    "            for line in lines:\n",
    "                data = line\n",
    "\n",
    "        if data:\n",
    "            data = data + \"\\n\"\n",
    "            sent = sock.sendto(data.encode(), address)\n",
    "            print(sys.stderr, 'sent %s bytes back to %s' % (sent, address))\n"
   ]
  },
  {
   "cell_type": "code",
   "execution_count": null,
   "metadata": {},
   "outputs": [
    {
     "name": "stdout",
     "output_type": "stream",
     "text": [
      "(<ipykernel.iostream.OutStream object at 0x7fab68553250>, 'starting up on 146.48.99.81 port 8891')\n",
      "(<ipykernel.iostream.OutStream object at 0x7fab68553250>, '\\nwaiting to receive message')\n",
      "(<ipykernel.iostream.OutStream object at 0x7fab68553250>, \"received 4 bytes from ('146.48.99.98', 40038)\")\n",
      "(<ipykernel.iostream.OutStream object at 0x7fab68553250>, 'READ')\n",
      "(<ipykernel.iostream.OutStream object at 0x7fab68553250>, \"sent 1 bytes back to ('146.48.99.98', 40038)\")\n",
      "(<ipykernel.iostream.OutStream object at 0x7fab68553250>, '\\nwaiting to receive message')\n",
      "(<ipykernel.iostream.OutStream object at 0x7fab68553250>, \"received 4 bytes from ('146.48.99.98', 44081)\")\n",
      "(<ipykernel.iostream.OutStream object at 0x7fab68553250>, 'READ')\n",
      "(<ipykernel.iostream.OutStream object at 0x7fab68553250>, \"sent 1 bytes back to ('146.48.99.98', 44081)\")\n",
      "(<ipykernel.iostream.OutStream object at 0x7fab68553250>, '\\nwaiting to receive message')\n"
     ]
    }
   ],
   "source": [
    "import sys\n",
    "#port = sys.argv[1]\n",
    "\n",
    "restore_attribute_manager()\n",
    "run_server(8891)"
   ]
  },
  {
   "cell_type": "code",
   "execution_count": null,
   "metadata": {},
   "outputs": [],
   "source": []
  }
 ],
 "metadata": {
  "kernelspec": {
   "display_name": "Python 3",
   "language": "python",
   "name": "python3"
  },
  "language_info": {
   "codemirror_mode": {
    "name": "ipython",
    "version": 2
   },
   "file_extension": ".py",
   "mimetype": "text/x-python",
   "name": "python",
   "nbconvert_exporter": "python",
   "pygments_lexer": "ipython2",
   "version": "2.7.12"
  }
 },
 "nbformat": 4,
 "nbformat_minor": 2
}
