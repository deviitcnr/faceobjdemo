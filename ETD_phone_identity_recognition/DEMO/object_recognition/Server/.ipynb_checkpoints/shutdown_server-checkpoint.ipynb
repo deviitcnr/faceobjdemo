{
 "cells": [
  {
   "cell_type": "code",
   "execution_count": null,
   "metadata": {},
   "outputs": [],
   "source": [
    "from psutil import process_iter\n",
    "from signal import SIGTERM # or SIGKILL\n",
    "\n",
    "for proc in process_iter():\n",
    "    for conns in proc.connections(kind='inet'):\n",
    "        if conns.laddr.port == 8890:\n",
    "            proc.send_signal(SIGTERM) # or SIGKILL\n",
    "            continue"
   ]
  }
 ],
 "metadata": {
  "kernelspec": {
   "display_name": "Python 3",
   "language": "python",
   "name": "python3"
  },
  "language_info": {
   "codemirror_mode": {
    "name": "ipython",
    "version": 2
   },
   "file_extension": ".py",
   "mimetype": "text/x-python",
   "name": "python",
   "nbconvert_exporter": "python",
   "pygments_lexer": "ipython2",
   "version": "2.7.12"
  }
 },
 "nbformat": 4,
 "nbformat_minor": 2
}
