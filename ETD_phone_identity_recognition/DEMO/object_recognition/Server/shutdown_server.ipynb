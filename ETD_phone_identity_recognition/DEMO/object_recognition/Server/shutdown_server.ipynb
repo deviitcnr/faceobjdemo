{
 "cells": [
  {
   "cell_type": "code",
   "execution_count": 1,
   "metadata": {},
   "outputs": [
    {
     "ename": "AttributeError",
     "evalue": "'tuple' object has no attribute 'port'",
     "output_type": "error",
     "traceback": [
      "\u001b[0;31m---------------------------------------------------------------------------\u001b[0m",
      "\u001b[0;31mAttributeError\u001b[0m                            Traceback (most recent call last)",
      "\u001b[0;32m<ipython-input-1-24a3b0948a5e>\u001b[0m in \u001b[0;36m<module>\u001b[0;34m()\u001b[0m\n\u001b[1;32m      4\u001b[0m \u001b[0;32mfor\u001b[0m \u001b[0mproc\u001b[0m \u001b[0;32min\u001b[0m \u001b[0mprocess_iter\u001b[0m\u001b[0;34m(\u001b[0m\u001b[0;34m)\u001b[0m\u001b[0;34m:\u001b[0m\u001b[0;34m\u001b[0m\u001b[0m\n\u001b[1;32m      5\u001b[0m     \u001b[0;32mfor\u001b[0m \u001b[0mconns\u001b[0m \u001b[0;32min\u001b[0m \u001b[0mproc\u001b[0m\u001b[0;34m.\u001b[0m\u001b[0mconnections\u001b[0m\u001b[0;34m(\u001b[0m\u001b[0mkind\u001b[0m\u001b[0;34m=\u001b[0m\u001b[0;34m'inet'\u001b[0m\u001b[0;34m)\u001b[0m\u001b[0;34m:\u001b[0m\u001b[0;34m\u001b[0m\u001b[0m\n\u001b[0;32m----> 6\u001b[0;31m         \u001b[0;32mif\u001b[0m \u001b[0mconns\u001b[0m\u001b[0;34m.\u001b[0m\u001b[0mladdr\u001b[0m\u001b[0;34m.\u001b[0m\u001b[0mport\u001b[0m \u001b[0;34m==\u001b[0m \u001b[0;36m8890\u001b[0m\u001b[0;34m:\u001b[0m\u001b[0;34m\u001b[0m\u001b[0m\n\u001b[0m\u001b[1;32m      7\u001b[0m             \u001b[0mproc\u001b[0m\u001b[0;34m.\u001b[0m\u001b[0msend_signal\u001b[0m\u001b[0;34m(\u001b[0m\u001b[0mSIGTERM\u001b[0m\u001b[0;34m)\u001b[0m \u001b[0;31m# or SIGKILL\u001b[0m\u001b[0;34m\u001b[0m\u001b[0m\n\u001b[1;32m      8\u001b[0m             \u001b[0;32mcontinue\u001b[0m\u001b[0;34m\u001b[0m\u001b[0m\n",
      "\u001b[0;31mAttributeError\u001b[0m: 'tuple' object has no attribute 'port'"
     ]
    }
   ],
   "source": [
    "import subprocess\n",
    "import sys\n",
    "import re\n",
    "import os\n",
    "\n",
    "def get_pids(port):\n",
    "\n",
    "\tcommand = \"sudo lsof -i :%s | awk '{print $2}'\" % port\n",
    "\tpids = subprocess.check_output(command, shell=True)\n",
    "\tpids = pids.strip()\n",
    "\tif pids:\n",
    "\t\tpids = re.sub(' +', ' ', pids)\n",
    "\t\tfor pid in pids.split('\\n'):\n",
    "\t\t\ttry:\n",
    "\t\t\t\tyield int(pid)\n",
    "\t\t\texcept:\n",
    "\t\t\t\tpass\n",
    "\n",
    "\n",
    "if __name__ == '__main__':\n",
    "\n",
    "\targs = sys.argv[1:]\n",
    "\tif not len(args):\n",
    "\t\tprint 'gimmi port'\n",
    "\t\tsys.exit(1)\n",
    "\n",
    "\tport = args[0]\n",
    "\tpids = set(get_pids(port))\n",
    "\tcommand = 'sudo kill -9 {}'.format(' '.join([str(pid) for pid in pids]))\n",
    "os.system(command)"
   ]
  },
  {
   "cell_type": "code",
   "execution_count": null,
   "metadata": {},
   "outputs": [],
   "source": []
  }
 ],
 "metadata": {
  "kernelspec": {
   "display_name": "Python 3",
   "language": "python",
   "name": "python3"
  },
  "language_info": {
   "codemirror_mode": {
    "name": "ipython",
    "version": 2
   },
   "file_extension": ".py",
   "mimetype": "text/x-python",
   "name": "python",
   "nbconvert_exporter": "python",
   "pygments_lexer": "ipython2",
   "version": "2.7.12"
  }
 },
 "nbformat": 4,
 "nbformat_minor": 2
}
