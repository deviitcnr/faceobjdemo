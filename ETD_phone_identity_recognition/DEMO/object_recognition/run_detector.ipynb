{
 "cells": [
  {
   "cell_type": "code",
   "execution_count": 1,
   "metadata": {},
   "outputs": [],
   "source": [
    "\n",
    "DETECTOR_COMMAND = [\"sudo\", \"./darknet/darknet\", \"detector\", \"demo\", \"darknet/cfg/coco.data\", \"darknet/cfg/yolov3.cfg\", \"darknet/yolov3.weights\", \"http://146.48.99.48:8080/stream/video.mjpeg\"]\n",
    "\n",
    "\n",
    "import subprocess\n",
    "test = subprocess.Popen(DETECTOR_COMMAND, stdout=subprocess.PIPE)\n",
    "output = test.communicate()[0]\n"
   ]
  },
  {
   "cell_type": "code",
   "execution_count": null,
   "metadata": {},
   "outputs": [],
   "source": []
  }
 ],
 "metadata": {
  "kernelspec": {
   "display_name": "Python 3",
   "language": "python",
   "name": "python3"
  },
  "language_info": {
   "codemirror_mode": {
    "name": "ipython",
    "version": 2
   },
   "file_extension": ".py",
   "mimetype": "text/x-python",
   "name": "python",
   "nbconvert_exporter": "python",
   "pygments_lexer": "ipython2",
   "version": "2.7.12"
  }
 },
 "nbformat": 4,
 "nbformat_minor": 2
}
